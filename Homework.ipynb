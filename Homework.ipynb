{
 "cells": [
  {
   "cell_type": "code",
   "execution_count": 2,
   "metadata": {},
   "outputs": [
    {
     "name": "stdout",
     "output_type": "stream",
     "text": [
      "This is  John's first program\n"
     ]
    }
   ],
   "source": [
    "#Task 1a\n",
    "print(\"This is  John's first program\")"
   ]
  },
  {
   "cell_type": "code",
   "execution_count": 6,
   "metadata": {},
   "outputs": [
    {
     "name": "stdout",
     "output_type": "stream",
     "text": [
      "Mate Ada Kyle\n"
     ]
    }
   ],
   "source": [
    "#Task 2a\n",
    "MyName = \"Mate\"\n",
    "SchoolName = \"Ada\"\n",
    "Friend = \"Kyle\"\n",
    "print(MyName,SchoolName,Friend)"
   ]
  },
  {
   "cell_type": "code",
   "execution_count": 8,
   "metadata": {},
   "outputs": [
    {
     "name": "stdout",
     "output_type": "stream",
     "text": [
      "Where do you live? London\n",
      "I love visitig London\n"
     ]
    }
   ],
   "source": [
    "#Task 3a\n",
    "Town = input('Where do you live? ')\n",
    "print('I love visitig', Town)\n"
   ]
  },
  {
   "cell_type": "code",
   "execution_count": 10,
   "metadata": {},
   "outputs": [
    {
     "name": "stdout",
     "output_type": "stream",
     "text": [
      "What is your first name? Mate\n",
      "What is your last name? Polgari\n",
      "Hello Mate Polgari\n"
     ]
    }
   ],
   "source": [
    "#Task 3b\n",
    "FirstName = input(\"What is your first name? \")\n",
    "LastName = input(\"What is your last name? \")\n",
    "print(\"Hello\", FirstName, LastName)\n",
    "\n"
   ]
  },
  {
   "cell_type": "code",
   "execution_count": 12,
   "metadata": {},
   "outputs": [
    {
     "name": "stdout",
     "output_type": "stream",
     "text": [
      "What is your name?Mate\n",
      "Mate\n",
      "Mate\n",
      "Mate\n",
      "Mate\n",
      "Mate\n"
     ]
    }
   ],
   "source": [
    "#Task 3c\n",
    "Name = input(\"What is your name?\")\n",
    "\n",
    "for i in range(5):\n",
    "    print(Name)"
   ]
  },
  {
   "cell_type": "code",
   "execution_count": 13,
   "metadata": {},
   "outputs": [
    {
     "name": "stdout",
     "output_type": "stream",
     "text": [
      "7\n",
      "2\n",
      "27\n",
      "3.5\n",
      "1\n"
     ]
    }
   ],
   "source": [
    "#Task 4a\n",
    "print(1+6)\n",
    "print(7-5)\n",
    "print(3*9)\n",
    "print(7/2)\n",
    "print(7%2)\n"
   ]
  },
  {
   "cell_type": "code",
   "execution_count": 14,
   "metadata": {},
   "outputs": [
    {
     "name": "stdout",
     "output_type": "stream",
     "text": [
      "6\n",
      "4\n",
      "8\n",
      "5.0\n",
      "1\n"
     ]
    }
   ],
   "source": [
    "#Task 4b\n",
    "print(3+3)\n",
    "print(8-4)\n",
    "print(2*4)\n",
    "print(15/3)\n",
    "print(16%5)\n"
   ]
  },
  {
   "cell_type": "code",
   "execution_count": 18,
   "metadata": {},
   "outputs": [
    {
     "name": "stdout",
     "output_type": "stream",
     "text": [
      "Enter a number 3\n",
      "True\n"
     ]
    }
   ],
   "source": [
    "#Task 4c\n",
    "IsPrime = True\n",
    "number = int(input(\"Enter a number \"))\n",
    "\n",
    "for i in range(2,number):\n",
    "    if number%i == 0:\n",
    "        IsPrime = False\n",
    "        break\n",
    "            \n",
    "print(IsPrime)"
   ]
  },
  {
   "cell_type": "code",
   "execution_count": 21,
   "metadata": {},
   "outputs": [
    {
     "name": "stdout",
     "output_type": "stream",
     "text": [
      "Enter number 1: 5\n",
      "Enter number 2: 4\n",
      "Adding your numbers together gives:  9\n"
     ]
    }
   ],
   "source": [
    "#Task 5a\n",
    "a=int(input('Enter number 1: '))\n",
    "b=int(input('Enter number 2: '))\n",
    "c=a+b\n",
    "print('Adding your numbers together gives:',c)"
   ]
  },
  {
   "cell_type": "code",
   "execution_count": 24,
   "metadata": {},
   "outputs": [
    {
     "name": "stdout",
     "output_type": "stream",
     "text": [
      "Give the radius of the circle2\n",
      "Give the length of the cylinder2\n",
      "The volume of the cylinder is 25.132741228718345\n"
     ]
    }
   ],
   "source": [
    "#Task 5b\n",
    "import math\n",
    "Radius = int(input(\"Give the radius of the circle\"))\n",
    "Length = int(input(\"Give the length of the cylinder\"))\n",
    "Volume = (math.pi*(Radius**2)) * Length\n",
    "print(\"The volume of the cylinder is\", Volume)\n"
   ]
  },
  {
   "cell_type": "code",
   "execution_count": 37,
   "metadata": {},
   "outputs": [
    {
     "name": "stdout",
     "output_type": "stream",
     "text": [
      "Enter number 1: 3\n",
      "Enter number 2: 3\n",
      "Enter number 3: 3\n",
      "They are equal\n"
     ]
    }
   ],
   "source": [
    "#Task 5c\n",
    "NumOne = int(input(\"Enter number 1: \"))\n",
    "NumTwo = int(input(\"Enter number 2: \"))\n",
    "NumThree = int(input(\"Enter number 3: \"))\n",
    "\n",
    "if NumOne > NumTwo:\n",
    "    if NumOne > NumThree:\n",
    "        print(\"number 1 is the largest\")\n",
    "    elif NumOne < NumThree:\n",
    "        print(\"number 3 is the largest\")\n",
    "    else:\n",
    "        print(\"number 1 and number 3 are the largest\")\n",
    "elif NumTwo > NumOne:\n",
    "    if NumTwo > NumThree:\n",
    "        print(\"number 2 is the largest\")\n",
    "    elif NumTwo < NumThree:\n",
    "        print(\"number 3 is the largest\")\n",
    "    else:\n",
    "        print(\"number 2 and number 3 are the largest\")\n",
    "else:\n",
    "    if NumOne > NumThree:\n",
    "        print(\"number 1 and number 2 are the largest\")\n",
    "    elif NumOne < NumThree:\n",
    "        print(\"number 3 is the largest\")\n",
    "    else:\n",
    "        print(\"They are equal\")\n",
    "        "
   ]
  },
  {
   "cell_type": "code",
   "execution_count": 40,
   "metadata": {},
   "outputs": [
    {
     "name": "stdout",
     "output_type": "stream",
     "text": [
      "Enter your marks: 120\n",
      "Your grade is an A\n"
     ]
    }
   ],
   "source": [
    "#Task 6a\n",
    "# U - 0\n",
    "# D - 40\n",
    "# C - 50\n",
    "# B - 60\n",
    "# A - 70\n",
    "\n",
    "Marks = int(input(\"Enter your marks: \"))\n",
    "if Marks < 40:\n",
    "    print(\"Your grade is a U\")\n",
    "elif Marks >= 40 and Marks < 50:\n",
    "    print(\"Your grade is a D\")\n",
    "elif Marks >= 50 and Marks < 60:\n",
    "    print(\"Your grade is a C\")\n",
    "elif Marks >= 60 and Marks < 70:\n",
    "    print(\"Your grade is a B\")\n",
    "else:\n",
    "    print(\"Your grade is an A\")\n"
   ]
  },
  {
   "cell_type": "code",
   "execution_count": 41,
   "metadata": {},
   "outputs": [
    {
     "name": "stdout",
     "output_type": "stream",
     "text": [
      "Enter a letter: a\n",
      "Enter a number: 3\n",
      "a\n",
      "a\n",
      "a\n"
     ]
    }
   ],
   "source": [
    "#Task 7a\n",
    "Letter = input(\"Enter a letter: \")\n",
    "Number = int(input(\"Enter a number: \"))\n",
    "for i in range(Number):\n",
    "    print(Letter)"
   ]
  },
  {
   "cell_type": "code",
   "execution_count": 42,
   "metadata": {},
   "outputs": [
    {
     "name": "stdout",
     "output_type": "stream",
     "text": [
      "12\n",
      "24\n",
      "36\n",
      "48\n",
      "60\n",
      "72\n",
      "84\n",
      "96\n",
      "108\n",
      "120\n",
      "132\n",
      "144\n",
      "156\n",
      "168\n",
      "180\n",
      "192\n",
      "204\n",
      "216\n",
      "228\n",
      "240\n",
      "252\n",
      "264\n",
      "276\n",
      "288\n",
      "300\n",
      "312\n",
      "324\n",
      "336\n",
      "348\n",
      "360\n",
      "372\n",
      "384\n",
      "396\n",
      "408\n",
      "420\n",
      "432\n",
      "444\n",
      "456\n",
      "468\n",
      "480\n",
      "492\n",
      "504\n",
      "516\n",
      "528\n",
      "540\n",
      "552\n",
      "564\n",
      "576\n",
      "588\n",
      "600\n",
      "612\n",
      "624\n",
      "636\n",
      "648\n",
      "660\n",
      "672\n",
      "684\n",
      "696\n",
      "708\n",
      "720\n",
      "732\n",
      "744\n",
      "756\n",
      "768\n",
      "780\n",
      "792\n",
      "804\n",
      "816\n",
      "828\n",
      "840\n",
      "852\n",
      "864\n",
      "876\n",
      "888\n",
      "900\n",
      "912\n",
      "924\n",
      "936\n",
      "948\n",
      "960\n",
      "972\n",
      "984\n",
      "996\n"
     ]
    }
   ],
   "source": [
    "#Task 7b\n",
    "for i in range(1,1001):\n",
    "    if i%3 == 0 and i%4 == 0:\n",
    "        print(i)\n",
    "        "
   ]
  },
  {
   "cell_type": "code",
   "execution_count": 43,
   "metadata": {},
   "outputs": [
    {
     "name": "stdout",
     "output_type": "stream",
     "text": [
      "looping\n",
      "looping\n",
      "looping\n",
      "looping\n",
      "looping\n"
     ]
    }
   ],
   "source": [
    "x=0\n",
    "while x<5:\n",
    "    print(\"looping\")\n",
    "    x=x+1"
   ]
  },
  {
   "cell_type": "code",
   "execution_count": 45,
   "metadata": {},
   "outputs": [
    {
     "name": "stdout",
     "output_type": "stream",
     "text": [
      "Enter the password: ok\n",
      "Enter the correct password: ok\n",
      "Enter the correct password: apple\n",
      "Accepted\n"
     ]
    }
   ],
   "source": [
    "#Task 8a\n",
    "Password = 'apple'\n",
    "UserInput = input(\"Enter the password: \")\n",
    "while UserInput != Password:\n",
    "    UserInput = input(\"Enter the correct password: \")\n",
    "else:\n",
    "    print(\"Accepted\")\n",
    "    "
   ]
  },
  {
   "cell_type": "code",
   "execution_count": 54,
   "metadata": {},
   "outputs": [
    {
     "name": "stdout",
     "output_type": "stream",
     "text": [
      "1\n",
      "4\n",
      "9\n",
      "16\n",
      "25\n",
      "36\n",
      "49\n",
      "64\n",
      "81\n",
      "100\n",
      "121\n",
      "144\n",
      "169\n",
      "196\n",
      "225\n",
      "256\n",
      "289\n",
      "324\n",
      "361\n",
      "400\n",
      "441\n",
      "484\n",
      "529\n"
     ]
    }
   ],
   "source": [
    "#Task 8b\n",
    "squares = 1\n",
    "number = 0\n",
    "while number < 500:\n",
    "    number = squares ** 2\n",
    "    squares += 1\n",
    "    print(number)"
   ]
  },
  {
   "cell_type": "code",
   "execution_count": 1,
   "metadata": {},
   "outputs": [
    {
     "name": "stdout",
     "output_type": "stream",
     "text": [
      "3.141592653589793\n",
      "12.566370614359172\n",
      "28.274333882308138\n"
     ]
    }
   ],
   "source": [
    "#Task 9a\n",
    "import math\n",
    "def circleArea(r):\n",
    "    Area = math.pi*(r**2)\n",
    "    return Area\n",
    "\n",
    "print(circleArea(1.0))\n",
    "print(circleArea(2.0))\n",
    "print(circleArea(3.0))    "
   ]
  },
  {
   "cell_type": "code",
   "execution_count": 6,
   "metadata": {},
   "outputs": [
    {
     "name": "stdout",
     "output_type": "stream",
     "text": [
      "00000011\n",
      "00000100\n",
      "00000101\n"
     ]
    }
   ],
   "source": [
    "#Task 9b\n",
    "def decToBin(num):\n",
    "    return format(num,'08b')\n",
    "\n",
    "print(decToBin(3))\n",
    "print(decToBin(4))\n",
    "print(decToBin(5))"
   ]
  },
  {
   "cell_type": "code",
   "execution_count": 25,
   "metadata": {},
   "outputs": [
    {
     "name": "stdout",
     "output_type": "stream",
     "text": [
      "    *\n",
      "   ***\n",
      "    *\n",
      "   ***\n",
      "  *****\n",
      "    *\n",
      "   ***\n",
      "  *****\n",
      " *******\n"
     ]
    }
   ],
   "source": [
    "#Task 9c\n",
    "def triangle(height):\n",
    "    spaces = 4\n",
    "    for i in range(1,height*2,2):\n",
    "        print(\" \"*spaces+i*\"*\")\n",
    "        spaces -= 1\n",
    "        \n",
    "triangle(2)\n",
    "triangle(3)\n",
    "triangle(4)"
   ]
  }
 ],
 "metadata": {
  "kernelspec": {
   "display_name": "Python 3",
   "language": "python",
   "name": "python3"
  },
  "language_info": {
   "codemirror_mode": {
    "name": "ipython",
    "version": 3
   },
   "file_extension": ".py",
   "mimetype": "text/x-python",
   "name": "python",
   "nbconvert_exporter": "python",
   "pygments_lexer": "ipython3",
   "version": "3.6.6"
  }
 },
 "nbformat": 4,
 "nbformat_minor": 2
}
